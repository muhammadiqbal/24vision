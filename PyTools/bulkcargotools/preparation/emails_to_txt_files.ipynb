{
 "cells": [
  {
   "cell_type": "code",
   "execution_count": null,
   "metadata": {
    "collapsed": true
   },
   "outputs": [],
   "source": [
    "import prepare_data"
   ]
  },
  {
   "cell_type": "code",
   "execution_count": null,
   "metadata": {
    "collapsed": true
   },
   "outputs": [],
   "source": [
    "names = [\"cargo\", \"ship\", \"order\", \"mix\"]"
   ]
  },
  {
   "cell_type": "code",
   "execution_count": null,
   "metadata": {
    "collapsed": true
   },
   "outputs": [],
   "source": [
    "data_path = \"../DATA/\""
   ]
  },
  {
   "cell_type": "code",
   "execution_count": null,
   "metadata": {
    "collapsed": true
   },
   "outputs": [],
   "source": [
    "# Remove newlines from emails\n",
    "for name in names:\n",
    "    prepared_emails = prepare_data.PrepareEmails(path_to_csv=data_path + \"csv/\" + name + \".csv\", remove_stopwords_flag=False)\n",
    "    \n",
    "    data = []\n",
    "    for el in prepared_emails.premature_list:\n",
    "        el = prepared_emails.single_newlines(el)\n",
    "        data.append(el)\n",
    "    \n",
    "    # Write txt files\n",
    "    for index, email in enumerate(data):\n",
    "        with open(\"txt/\" + name + \"/\" + name + \"_\" + str(index) + \".txt\", \"w\") as text_file:\n",
    "            text_file.write(email)\n",
    "        with open(\"txt/\" + name + \"/\" + name + \"_\" + str(index) + \".ann\", \"w\") as text_file:\n",
    "            text_file.write(\"\")"
   ]
  },
  {
   "cell_type": "code",
   "execution_count": null,
   "metadata": {
    "collapsed": true
   },
   "outputs": [],
   "source": [
    "# -------------------------------"
   ]
  },
  {
   "cell_type": "code",
   "execution_count": null,
   "metadata": {
    "collapsed": true
   },
   "outputs": [],
   "source": [
    "# Do nothing with emails\n",
    "for name in names:\n",
    "    prepared_emails = prepare_data.PrepareEmails(path_to_csv=data_path + \"csv/\" + name + \".csv\", remove_stopwords_flag=False)\n",
    "    \n",
    "    data = []\n",
    "    for el in prepared_emails.premature_list:\n",
    "        data.append(el)\n",
    "    \n",
    "    # Write txt files\n",
    "    for index, email in enumerate(data):\n",
    "        with open(\"txt/\" + name + \"/\" + name + \"_\" + str(index) + \".txt\", \"w\") as text_file:\n",
    "            text_file.write(email)\n",
    "        with open(\"txt/\" + name + \"/\" + name + \"_\" + str(index) + \".ann\", \"w\") as text_file:\n",
    "            text_file.write(\"\")"
   ]
  }
 ],
 "metadata": {
  "kernelspec": {
   "display_name": "Python 3",
   "language": "python",
   "name": "python3"
  },
  "language_info": {
   "codemirror_mode": {
    "name": "ipython",
    "version": 3
   },
   "file_extension": ".py",
   "mimetype": "text/x-python",
   "name": "python",
   "nbconvert_exporter": "python",
   "pygments_lexer": "ipython3",
   "version": "3.6.1"
  }
 },
 "nbformat": 4,
 "nbformat_minor": 2
}
