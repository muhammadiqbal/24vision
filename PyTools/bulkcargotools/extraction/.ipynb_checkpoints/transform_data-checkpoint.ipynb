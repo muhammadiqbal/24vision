{
 "cells": [
  {
   "cell_type": "code",
   "execution_count": 1,
   "metadata": {
    "collapsed": true
   },
   "outputs": [],
   "source": [
    "import os\n",
    "import re\n",
    "from random import shuffle"
   ]
  },
  {
   "cell_type": "code",
   "execution_count": 2,
   "metadata": {
    "collapsed": true
   },
   "outputs": [],
   "source": [
    "# ✓ Get annotation files that are not empty\n",
    "# ✓ Get associated email txts\n",
    "# ✓ Extract information from ann file and save as structured object\n",
    "# ✓ Tag entities\n",
    "    # ✓ No-Entity --> \"O\"\n",
    "    # ✓ Entity, --> \"B-Entity ... I-Entity\"\n",
    "# ✓ Split into training and test data\n",
    "# ✓ Save to specified directory\n",
    "# ✓ Disregard whitespaces (currently tagged as \"O\")\n",
    "# X Improve splitting of entites\n",
    "# X Deal with fragmented Entities\n",
    "# X Deal with relations between entities"
   ]
  },
  {
   "cell_type": "code",
   "execution_count": 3,
   "metadata": {
    "collapsed": true
   },
   "outputs": [],
   "source": [
    "def filled_ann_paths(path_to_files):\n",
    "    ann_paths = []\n",
    "    for file in os.listdir(path_to_files):\n",
    "        if file.endswith(\".ann\"):\n",
    "            full_path = os.path.join(path_to_files, file)\n",
    "            if os.stat(full_path).st_size > 0:\n",
    "                ann_paths.append(full_path)\n",
    "    return ann_paths"
   ]
  },
  {
   "cell_type": "code",
   "execution_count": 4,
   "metadata": {
    "collapsed": true
   },
   "outputs": [],
   "source": [
    "def according_email_paths(ann_paths):\n",
    "    email_paths = []\n",
    "    for ann_path in ann_paths:\n",
    "        ann_name = os.path.basename(ann_path)\n",
    "        email_name = ann_name[0:-4] + '.txt'\n",
    "        email_paths.append(os.path.dirname(ann_path) + '/' + email_name)\n",
    "    return email_paths"
   ]
  },
  {
   "cell_type": "code",
   "execution_count": 5,
   "metadata": {
    "collapsed": true
   },
   "outputs": [],
   "source": [
    "def annotation_as_structure(ann_file_path):\n",
    "    result = []\n",
    "    with open(ann_file_path, 'r') as file:\n",
    "        lines = file.readlines()\n",
    "    for line in lines:\n",
    "        if line.startswith(\"T\"):  # Go through entities (not relations)\n",
    "            line = re.sub(r'^T\\d+\\s+', '', line)  # Remove unnecessary stuff\n",
    "            tag_and_positions = re.search(r'^\\w+ +\\d+ +\\d+', line).group()  # Extract tag and the positions\n",
    "            tag = re.search(r'^\\w+', tag_and_positions).group()  # Get the tag\n",
    "            positions = re.findall(r'(?<= )\\d+', tag_and_positions)[0:2]  # Get the positions\n",
    "            positions = list(map(int, positions))  # Convert into integer\n",
    "            entity = line[len(tag_and_positions) + 1:]  # Get the entity\n",
    "            result.append({'tag': tag, 'start_pos': positions[0], 'end_pos': positions[1], 'entity': entity})\n",
    "    return sorted(result, key = lambda el: el['start_pos'])"
   ]
  },
  {
   "cell_type": "code",
   "execution_count": 6,
   "metadata": {
    "collapsed": true
   },
   "outputs": [],
   "source": [
    "def tag_no_ent_part(until_pos, email, pos_in_text):\n",
    "    no_ent_part = email[pos_in_text:until_pos]  # Grab part that doesn't contain tagged entities\n",
    "    comb = no_ent_part.split()  # Split by any whitespace\n",
    "    comb = list(filter(None, comb))  # Remove empty strings\n",
    "    comb = [s + \" O\" for s in comb]  # Append \"O\" to all strings\n",
    "    return comb\n",
    "    \n",
    "def tag_ent_part(ann):\n",
    "    comb = ann['entity'].split()  # Split by any whitespace\n",
    "    comb = list(filter(None, comb))  # Remove empty strings\n",
    "    first = [comb[0] + \" B-\" + ann['tag']]  # Append \"B-\" tag\n",
    "    rest = [s + \" I-\" + ann['tag'] for s in comb[1:]]  # Append \"I-\" tags\n",
    "    return first + rest"
   ]
  },
  {
   "cell_type": "code",
   "execution_count": 7,
   "metadata": {
    "collapsed": true
   },
   "outputs": [],
   "source": [
    "def generate_iob_list(ann_data, email):\n",
    "    comb = []\n",
    "    pos_in_text = 0\n",
    "    for ann in ann_data:\n",
    "        comb += tag_no_ent_part(ann['start_pos'], email, pos_in_text)\n",
    "        comb += tag_ent_part(ann)\n",
    "        pos_in_text = ann['end_pos'] + 1\n",
    "    comb += tag_no_ent_part(len(email), email, pos_in_text)\n",
    "    return comb"
   ]
  },
  {
   "cell_type": "code",
   "execution_count": 8,
   "metadata": {
    "collapsed": true
   },
   "outputs": [],
   "source": [
    "def generate_all_iob_lists(ann_paths, email_paths):\n",
    "    all_lists = []\n",
    "    for ann_path, email_path in zip(ann_paths, email_paths):\n",
    "        ann_data = annotation_as_structure(ann_path)\n",
    "        with open(email_path, 'r') as file:\n",
    "            email = file.read()\n",
    "\n",
    "        iob_list = generate_iob_list(ann_data, email)\n",
    "        all_lists.append(iob_list)\n",
    "    return all_lists"
   ]
  },
  {
   "cell_type": "code",
   "execution_count": 9,
   "metadata": {},
   "outputs": [],
   "source": [
    "# Find relevant filepaths ----------------------------------------\n",
    "ann_paths = filled_ann_paths(\"/Users/henry/bulk_cargo_matching/brat-annotation-tool/brat-v1.3_Crunchy_Frog/data/24Vision/cargo\")\n",
    "email_paths = according_email_paths(ann_paths)"
   ]
  },
  {
   "cell_type": "code",
   "execution_count": 10,
   "metadata": {
    "collapsed": true
   },
   "outputs": [],
   "source": [
    "# Some testing code ----------------------------------------------\n",
    "# ann_path = ann_paths[0]\n",
    "# email_path = email_paths[0]\n",
    "# ann_data = annotation_as_structure(ann_path)\n",
    "# with open(email_path, 'r') as file:\n",
    "#     email = file.read()\n",
    "# \n",
    "# x = generate_iob_list(ann_data, email)\n",
    "# x"
   ]
  },
  {
   "cell_type": "code",
   "execution_count": 11,
   "metadata": {},
   "outputs": [],
   "source": [
    "# Generate iob data -----------------------------------------------\n",
    "all_iobs = generate_all_iob_lists(ann_paths, email_paths)"
   ]
  },
  {
   "cell_type": "code",
   "execution_count": 12,
   "metadata": {
    "collapsed": true
   },
   "outputs": [],
   "source": [
    "# Make training, validation (test_a) and test (test_b) sets -------\n",
    "shuffle(all_iobs)\n",
    "training_percentage = 0.7\n",
    "nr_of_training_ex = int(len(all_iobs) * training_percentage)\n",
    "nr_of_test_a_ex = int((len(all_iobs) - nr_of_training_ex) / 2)\n",
    "training = all_iobs[:nr_of_training_ex]\n",
    "test_a = all_iobs[nr_of_training_ex:nr_of_training_ex + nr_of_test_a_ex]\n",
    "test_b = all_iobs[nr_of_training_ex + nr_of_test_a_ex:]"
   ]
  },
  {
   "cell_type": "code",
   "execution_count": 13,
   "metadata": {
    "collapsed": true
   },
   "outputs": [],
   "source": [
    "# Convert data sets to strings and save to disk -------------------\n",
    "training_str = \"\"\n",
    "for l in training:\n",
    "    s = \"\\n\".join(l)\n",
    "    training_str += s + \"\\n\\n\"\n",
    "test_a_str = \"\"\n",
    "for l in test_a:\n",
    "    s = \"\\n\".join(l)\n",
    "    test_a_str += s + \"\\n\\n\"\n",
    "test_b_str = \"\"\n",
    "for l in test_b:\n",
    "    s = \"\\n\".join(l)\n",
    "    test_b_str += s + \"\\n\\n\"\n",
    "\n",
    "# Write files to specified path\n",
    "path = \"sequence_tagging/data/24Vision/iob\"\n",
    "with open(os.path.join(path, \"train.iob\"), \"w\") as file:\n",
    "    file.write(training_str)\n",
    "with open(os.path.join(path, \"test_a.iob\"), \"w\") as file:\n",
    "    file.write(test_a_str)\n",
    "with open(os.path.join(path, \"test_b.iob\"), \"w\") as file:\n",
    "    file.write(test_b_str)"
   ]
  }
 ],
 "metadata": {
  "kernelspec": {
   "display_name": "Python 3",
   "language": "python",
   "name": "python3"
  },
  "language_info": {
   "codemirror_mode": {
    "name": "ipython",
    "version": 3
   },
   "file_extension": ".py",
   "mimetype": "text/x-python",
   "name": "python",
   "nbconvert_exporter": "python",
   "pygments_lexer": "ipython3",
   "version": "3.6.1"
  }
 },
 "nbformat": 4,
 "nbformat_minor": 1
}
